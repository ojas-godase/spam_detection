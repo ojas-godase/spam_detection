{
 "cells": [
  {
   "cell_type": "code",
   "execution_count": 1,
   "id": "025029a9-0867-42c6-9996-c98012097738",
   "metadata": {},
   "outputs": [],
   "source": [
    "import numpy as np \n",
    "import pandas as pd \n",
    "import matplotlib.pyplot as plt \n",
    "from sklearn.feature_extraction import text\n",
    "from sklearn.model_selection import train_test_split\n",
    "import re\n",
    "import nltk\n",
    "from nltk.corpus import stopwords\n",
    "from nltk.tokenize import word_tokenize\n",
    "import zipfile\n",
    "import requests\n",
    "import os\n",
    "from nltk.stem import WordNetLemmatizer\n",
    "from nltk.stem import PorterStemmer\n",
    "from tensorflow.keras.preprocessing.text import Tokenizer\n",
    "from tensorflow.keras.preprocessing.sequence import pad_sequences\n",
    "import tensorflow as tf\n",
    "from tensorflow.keras import layers\n",
    "import spacy"
   ]
  },
  {
   "cell_type": "code",
   "execution_count": 2,
   "id": "d7388c01-b102-4a0b-8fcc-cedb550d6716",
   "metadata": {},
   "outputs": [],
   "source": [
    "data = pd.read_csv('dataset.csv')"
   ]
  },
  {
   "cell_type": "code",
   "execution_count": 3,
   "id": "36911c08-89bf-448d-a0ae-bee15585a8bf",
   "metadata": {},
   "outputs": [
    {
     "data": {
      "text/html": [
       "<div>\n",
       "<style scoped>\n",
       "    .dataframe tbody tr th:only-of-type {\n",
       "        vertical-align: middle;\n",
       "    }\n",
       "\n",
       "    .dataframe tbody tr th {\n",
       "        vertical-align: top;\n",
       "    }\n",
       "\n",
       "    .dataframe thead th {\n",
       "        text-align: right;\n",
       "    }\n",
       "</style>\n",
       "<table border=\"1\" class=\"dataframe\">\n",
       "  <thead>\n",
       "    <tr style=\"text-align: right;\">\n",
       "      <th></th>\n",
       "      <th>text_type</th>\n",
       "      <th>text</th>\n",
       "    </tr>\n",
       "  </thead>\n",
       "  <tbody>\n",
       "    <tr>\n",
       "      <th>0</th>\n",
       "      <td>spam</td>\n",
       "      <td>naturally irresistible your corporate identity...</td>\n",
       "    </tr>\n",
       "    <tr>\n",
       "      <th>1</th>\n",
       "      <td>spam</td>\n",
       "      <td>the stock trading gunslinger fanny is merrill ...</td>\n",
       "    </tr>\n",
       "    <tr>\n",
       "      <th>2</th>\n",
       "      <td>spam</td>\n",
       "      <td>unbelievable new homes made easy im wanting to...</td>\n",
       "    </tr>\n",
       "    <tr>\n",
       "      <th>3</th>\n",
       "      <td>spam</td>\n",
       "      <td>4 color printing special request additional in...</td>\n",
       "    </tr>\n",
       "    <tr>\n",
       "      <th>4</th>\n",
       "      <td>spam</td>\n",
       "      <td>do not have money get software cds from here s...</td>\n",
       "    </tr>\n",
       "    <tr>\n",
       "      <th>...</th>\n",
       "      <td>...</td>\n",
       "      <td>...</td>\n",
       "    </tr>\n",
       "    <tr>\n",
       "      <th>20343</th>\n",
       "      <td>ham</td>\n",
       "      <td>/ban</td>\n",
       "    </tr>\n",
       "    <tr>\n",
       "      <th>20344</th>\n",
       "      <td>ham</td>\n",
       "      <td>/ban</td>\n",
       "    </tr>\n",
       "    <tr>\n",
       "      <th>20345</th>\n",
       "      <td>ham</td>\n",
       "      <td>/ban</td>\n",
       "    </tr>\n",
       "    <tr>\n",
       "      <th>20346</th>\n",
       "      <td>ham</td>\n",
       "      <td>Kaisi hii</td>\n",
       "    </tr>\n",
       "    <tr>\n",
       "      <th>20347</th>\n",
       "      <td>ham</td>\n",
       "      <td>Shock q</td>\n",
       "    </tr>\n",
       "  </tbody>\n",
       "</table>\n",
       "<p>20348 rows × 2 columns</p>\n",
       "</div>"
      ],
      "text/plain": [
       "      text_type                                               text\n",
       "0          spam  naturally irresistible your corporate identity...\n",
       "1          spam  the stock trading gunslinger fanny is merrill ...\n",
       "2          spam  unbelievable new homes made easy im wanting to...\n",
       "3          spam  4 color printing special request additional in...\n",
       "4          spam  do not have money get software cds from here s...\n",
       "...         ...                                                ...\n",
       "20343       ham                                               /ban\n",
       "20344       ham                                               /ban\n",
       "20345       ham                                               /ban\n",
       "20346       ham                                          Kaisi hii\n",
       "20347       ham                                            Shock q\n",
       "\n",
       "[20348 rows x 2 columns]"
      ]
     },
     "execution_count": 3,
     "metadata": {},
     "output_type": "execute_result"
    }
   ],
   "source": [
    "data"
   ]
  },
  {
   "cell_type": "code",
   "execution_count": 4,
   "id": "6915b853-49b2-4a00-90c9-cd31b8daa1aa",
   "metadata": {},
   "outputs": [],
   "source": [
    "# change the column names \n",
    "columns = [\"spam\" , \"text\"]\n",
    "data.columns = columns"
   ]
  },
  {
   "cell_type": "code",
   "execution_count": 5,
   "id": "3131e72b-e872-4981-a031-16e1bc4de320",
   "metadata": {},
   "outputs": [],
   "source": [
    "# change the spam values to 1 and ham values to 0 \n",
    "data.loc[data['spam'] == 'spam', 'spam'] = 1\n",
    "data.loc[data['spam'] == 'ham', 'spam'] = 0\n"
   ]
  },
  {
   "cell_type": "markdown",
   "id": "cf163bb2-6e64-4365-9da9-c7405e122d13",
   "metadata": {},
   "source": [
    "### Pre processing of text data "
   ]
  },
  {
   "cell_type": "markdown",
   "id": "58e7ab0a-4622-4258-98f0-a631712d4d46",
   "metadata": {},
   "source": [
    "Removing special characters and punctuation, white spaces"
   ]
  },
  {
   "cell_type": "code",
   "execution_count": 6,
   "id": "735a0b52-73fc-45ac-8a7a-5e19ab2e955a",
   "metadata": {},
   "outputs": [],
   "source": [
    "def clean_text(text):\n",
    "    # Remove HTML tags\n",
    "    text = re.sub(r'<[^>]+>', '', text)\n",
    "    \n",
    "    # Remove special characters and punctuation\n",
    "    text = re.sub(r'[^a-zA-Z0-9\\s]', '', text)\n",
    "    \n",
    "    # Convert text to lowercase\n",
    "    text = text.lower()\n",
    "    \n",
    "    # Remove extra whitespaces\n",
    "    text = re.sub(r'\\s+', ' ', text).strip()\n",
    "    \n",
    "    return text\n",
    "\n",
    "\n",
    "# Apply the clean_text function to every sentence in the specified column\n",
    "data[\"text\"] = data[\"text\"].apply(lambda x: clean_text(x))\n",
    "\n"
   ]
  },
  {
   "cell_type": "code",
   "execution_count": 7,
   "id": "b5fe50b8-210a-45e1-b948-84e4bef36029",
   "metadata": {},
   "outputs": [
    {
     "name": "stdout",
     "output_type": "stream",
     "text": [
      "NLTK data path set to: /Users/ojas/PythonLib/nltk_data\n"
     ]
    }
   ],
   "source": [
    "# Define the function for stopword removal\n",
    "def remove_stopwords(text):\n",
    "    # Tokenize the text into words\n",
    "    words = word_tokenize(text)\n",
    "    # Remove stopwords\n",
    "    filtered_words = [word for word in words if word.lower() not in stopwords.words('english')]\n",
    "    # Join the filtered words back into a sentence\n",
    "    filtered_text = ' '.join(filtered_words)\n",
    "    return filtered_text\n",
    "\n",
    "# Set the NLTK data path to the directory where NLTK data is stored locally\n",
    "nltk_data_path = \"/Users/ojas/PythonLib/nltk_data\"  # Replace \"/path/to/nltk_data\" with the actual path\n",
    "\n",
    "# Check if the NLTK data path exists\n",
    "if os.path.exists(nltk_data_path):\n",
    "    # Add the NLTK data path to the list of paths\n",
    "    nltk.data.path.append(nltk_data_path)\n",
    "    print(\"NLTK data path set to:\", nltk_data_path)\n",
    "else:\n",
    "    print(\"NLTK data path not found. Please provide the correct path.\")\n",
    "\n",
    "# Assuming 'df' is your DataFrame and 'column_name' is the name of the column containing text data\n",
    "# Replace 'df' and 'column_name' with the actual names in your DataFrame\n",
    "\n",
    "# Apply the remove_stopwords function to every sentence in the specified column\n",
    "data[\"text\"] = data[\"text\"].apply(lambda x: remove_stopwords(x))\n"
   ]
  },
  {
   "cell_type": "code",
   "execution_count": 8,
   "id": "4ea87c4a-d18d-42fa-9464-a45f5a590226",
   "metadata": {},
   "outputs": [
    {
     "data": {
      "text/html": [
       "<div>\n",
       "<style scoped>\n",
       "    .dataframe tbody tr th:only-of-type {\n",
       "        vertical-align: middle;\n",
       "    }\n",
       "\n",
       "    .dataframe tbody tr th {\n",
       "        vertical-align: top;\n",
       "    }\n",
       "\n",
       "    .dataframe thead th {\n",
       "        text-align: right;\n",
       "    }\n",
       "</style>\n",
       "<table border=\"1\" class=\"dataframe\">\n",
       "  <thead>\n",
       "    <tr style=\"text-align: right;\">\n",
       "      <th></th>\n",
       "      <th>spam</th>\n",
       "      <th>text</th>\n",
       "    </tr>\n",
       "  </thead>\n",
       "  <tbody>\n",
       "    <tr>\n",
       "      <th>0</th>\n",
       "      <td>1</td>\n",
       "      <td>naturally irresistible corporate identity lt r...</td>\n",
       "    </tr>\n",
       "    <tr>\n",
       "      <th>1</th>\n",
       "      <td>1</td>\n",
       "      <td>stock trading gunslinger fanny merrill muzo co...</td>\n",
       "    </tr>\n",
       "    <tr>\n",
       "      <th>2</th>\n",
       "      <td>1</td>\n",
       "      <td>unbelievable new homes made easy im wanting sh...</td>\n",
       "    </tr>\n",
       "    <tr>\n",
       "      <th>3</th>\n",
       "      <td>1</td>\n",
       "      <td>4 color printing special request additional in...</td>\n",
       "    </tr>\n",
       "    <tr>\n",
       "      <th>4</th>\n",
       "      <td>1</td>\n",
       "      <td>money get software cds software compatibility ...</td>\n",
       "    </tr>\n",
       "    <tr>\n",
       "      <th>...</th>\n",
       "      <td>...</td>\n",
       "      <td>...</td>\n",
       "    </tr>\n",
       "    <tr>\n",
       "      <th>20343</th>\n",
       "      <td>0</td>\n",
       "      <td>ban</td>\n",
       "    </tr>\n",
       "    <tr>\n",
       "      <th>20344</th>\n",
       "      <td>0</td>\n",
       "      <td>ban</td>\n",
       "    </tr>\n",
       "    <tr>\n",
       "      <th>20345</th>\n",
       "      <td>0</td>\n",
       "      <td>ban</td>\n",
       "    </tr>\n",
       "    <tr>\n",
       "      <th>20346</th>\n",
       "      <td>0</td>\n",
       "      <td>kaisi hii</td>\n",
       "    </tr>\n",
       "    <tr>\n",
       "      <th>20347</th>\n",
       "      <td>0</td>\n",
       "      <td>shock q</td>\n",
       "    </tr>\n",
       "  </tbody>\n",
       "</table>\n",
       "<p>20348 rows × 2 columns</p>\n",
       "</div>"
      ],
      "text/plain": [
       "      spam                                               text\n",
       "0        1  naturally irresistible corporate identity lt r...\n",
       "1        1  stock trading gunslinger fanny merrill muzo co...\n",
       "2        1  unbelievable new homes made easy im wanting sh...\n",
       "3        1  4 color printing special request additional in...\n",
       "4        1  money get software cds software compatibility ...\n",
       "...    ...                                                ...\n",
       "20343    0                                                ban\n",
       "20344    0                                                ban\n",
       "20345    0                                                ban\n",
       "20346    0                                          kaisi hii\n",
       "20347    0                                            shock q\n",
       "\n",
       "[20348 rows x 2 columns]"
      ]
     },
     "execution_count": 8,
     "metadata": {},
     "output_type": "execute_result"
    }
   ],
   "source": [
    "data"
   ]
  },
  {
   "cell_type": "markdown",
   "id": "e25c5894-91d8-4bf0-aac0-1b80ff97aa78",
   "metadata": {},
   "source": [
    "Lemmatization and Stemming "
   ]
  },
  {
   "cell_type": "code",
   "execution_count": 9,
   "id": "93417358-fde2-4cab-bfb1-c5563da3bd8f",
   "metadata": {},
   "outputs": [],
   "source": [
    "# Initialize the WordNet lemmatizer\n",
    "lemmatizer = WordNetLemmatizer()\n",
    "\n",
    "# Define the function for lemmatization\n",
    "def lemmatize_text(text):\n",
    "    # Tokenize the text into words\n",
    "    words = word_tokenize(text)\n",
    "    # Apply lemmatization to each word\n",
    "    lemmatized_words = [lemmatizer.lemmatize(word) for word in words]\n",
    "    # Join the lemmatized words back into a sentence\n",
    "    lemmatized_text = ' '.join(lemmatized_words)\n",
    "    return lemmatized_text\n",
    "\n",
    "data[\"text\"] = data[\"text\"].apply(lambda x: lemmatize_text(x))"
   ]
  },
  {
   "cell_type": "code",
   "execution_count": 10,
   "id": "efd13845-bd88-4c02-9c3e-65df6345ff14",
   "metadata": {},
   "outputs": [],
   "source": [
    "# Initialize the Porter stemmer\n",
    "porter = PorterStemmer()\n",
    "\n",
    "# Define the function for stemming\n",
    "def stem_text(text):\n",
    "    # Tokenize the text into words\n",
    "    words = word_tokenize(text)\n",
    "    # Apply stemming to each word\n",
    "    stemmed_words = [porter.stem(word) for word in words]\n",
    "    # Join the stemmed words back into a sentence\n",
    "    stemmed_text = ' '.join(stemmed_words)\n",
    "    return stemmed_text\n",
    "\n",
    "# Assuming 'df' is your DataFrame and 'column_name' is the name of the column containing text data\n",
    "# Replace 'df' and 'column_name' with the actual names in your DataFrame\n",
    "\n",
    "# Apply the stem_text function to every sentence in the specified column\n",
    "data[\"text\"] = data[\"text\"].apply(lambda x: stem_text(x))"
   ]
  },
  {
   "cell_type": "markdown",
   "id": "3210b995-fb9c-4e73-af98-aa45b1a06589",
   "metadata": {},
   "source": [
    "Tokenize"
   ]
  },
  {
   "cell_type": "code",
   "execution_count": 11,
   "id": "afed0e37-520b-415b-84f2-df62e13295fb",
   "metadata": {},
   "outputs": [],
   "source": [
    "data[\"text\"] = data[\"text\"].apply(lambda x: word_tokenize(x))"
   ]
  },
  {
   "cell_type": "code",
   "execution_count": 12,
   "id": "40bc0f64-2d7b-4dc5-beba-852693efa0ed",
   "metadata": {},
   "outputs": [
    {
     "data": {
      "text/html": [
       "<div>\n",
       "<style scoped>\n",
       "    .dataframe tbody tr th:only-of-type {\n",
       "        vertical-align: middle;\n",
       "    }\n",
       "\n",
       "    .dataframe tbody tr th {\n",
       "        vertical-align: top;\n",
       "    }\n",
       "\n",
       "    .dataframe thead th {\n",
       "        text-align: right;\n",
       "    }\n",
       "</style>\n",
       "<table border=\"1\" class=\"dataframe\">\n",
       "  <thead>\n",
       "    <tr style=\"text-align: right;\">\n",
       "      <th></th>\n",
       "      <th>spam</th>\n",
       "      <th>text</th>\n",
       "    </tr>\n",
       "  </thead>\n",
       "  <tbody>\n",
       "    <tr>\n",
       "      <th>0</th>\n",
       "      <td>1</td>\n",
       "      <td>[natur, irresist, corpor, ident, lt, realli, h...</td>\n",
       "    </tr>\n",
       "    <tr>\n",
       "      <th>1</th>\n",
       "      <td>1</td>\n",
       "      <td>[stock, trade, gunsling, fanni, merril, muzo, ...</td>\n",
       "    </tr>\n",
       "    <tr>\n",
       "      <th>2</th>\n",
       "      <td>1</td>\n",
       "      <td>[unbeliev, new, home, made, easi, im, want, sh...</td>\n",
       "    </tr>\n",
       "    <tr>\n",
       "      <th>3</th>\n",
       "      <td>1</td>\n",
       "      <td>[4, color, print, special, request, addit, inf...</td>\n",
       "    </tr>\n",
       "    <tr>\n",
       "      <th>4</th>\n",
       "      <td>1</td>\n",
       "      <td>[money, get, softwar, cd, softwar, compat, gre...</td>\n",
       "    </tr>\n",
       "    <tr>\n",
       "      <th>...</th>\n",
       "      <td>...</td>\n",
       "      <td>...</td>\n",
       "    </tr>\n",
       "    <tr>\n",
       "      <th>20343</th>\n",
       "      <td>0</td>\n",
       "      <td>[ban]</td>\n",
       "    </tr>\n",
       "    <tr>\n",
       "      <th>20344</th>\n",
       "      <td>0</td>\n",
       "      <td>[ban]</td>\n",
       "    </tr>\n",
       "    <tr>\n",
       "      <th>20345</th>\n",
       "      <td>0</td>\n",
       "      <td>[ban]</td>\n",
       "    </tr>\n",
       "    <tr>\n",
       "      <th>20346</th>\n",
       "      <td>0</td>\n",
       "      <td>[kaisi, hii]</td>\n",
       "    </tr>\n",
       "    <tr>\n",
       "      <th>20347</th>\n",
       "      <td>0</td>\n",
       "      <td>[shock, q]</td>\n",
       "    </tr>\n",
       "  </tbody>\n",
       "</table>\n",
       "<p>20348 rows × 2 columns</p>\n",
       "</div>"
      ],
      "text/plain": [
       "      spam                                               text\n",
       "0        1  [natur, irresist, corpor, ident, lt, realli, h...\n",
       "1        1  [stock, trade, gunsling, fanni, merril, muzo, ...\n",
       "2        1  [unbeliev, new, home, made, easi, im, want, sh...\n",
       "3        1  [4, color, print, special, request, addit, inf...\n",
       "4        1  [money, get, softwar, cd, softwar, compat, gre...\n",
       "...    ...                                                ...\n",
       "20343    0                                              [ban]\n",
       "20344    0                                              [ban]\n",
       "20345    0                                              [ban]\n",
       "20346    0                                       [kaisi, hii]\n",
       "20347    0                                         [shock, q]\n",
       "\n",
       "[20348 rows x 2 columns]"
      ]
     },
     "execution_count": 12,
     "metadata": {},
     "output_type": "execute_result"
    }
   ],
   "source": [
    "data"
   ]
  },
  {
   "cell_type": "markdown",
   "id": "b25fb184-f571-402d-b082-1cb527fe3a8f",
   "metadata": {},
   "source": [
    "Convert all the data to numeric form and add some padding to make every inputs length equal"
   ]
  },
  {
   "cell_type": "code",
   "execution_count": 13,
   "id": "2abcaff9-5114-4f20-972e-fc9087a87f51",
   "metadata": {},
   "outputs": [],
   "source": [
    "# Load the spaCy model with pre-trained word embeddings\n",
    "nlp = spacy.load(\"en_core_web_md\")"
   ]
  },
  {
   "cell_type": "code",
   "execution_count": 14,
   "id": "fe8a1011-6975-4b1e-ba70-6d18cdec9072",
   "metadata": {},
   "outputs": [],
   "source": [
    "# Function to convert text data into numeric form using spaCy word embeddings\n",
    "def text_to_vectors(tokens):\n",
    "    doc = nlp(\" \".join(tokens))\n",
    "    return doc.vector"
   ]
  },
  {
   "cell_type": "code",
   "execution_count": 15,
   "id": "695b4608-e21e-44e8-bba8-36629b11e619",
   "metadata": {},
   "outputs": [],
   "source": [
    "# Convert text data into numeric form using spaCy word embeddings\n",
    "data[\"text\"] = data[\"text\"].apply(text_to_vectors)"
   ]
  },
  {
   "cell_type": "code",
   "execution_count": 16,
   "id": "647a2bbe-970e-49cf-8761-81f66634f12e",
   "metadata": {},
   "outputs": [
    {
     "data": {
      "text/html": [
       "<div>\n",
       "<style scoped>\n",
       "    .dataframe tbody tr th:only-of-type {\n",
       "        vertical-align: middle;\n",
       "    }\n",
       "\n",
       "    .dataframe tbody tr th {\n",
       "        vertical-align: top;\n",
       "    }\n",
       "\n",
       "    .dataframe thead th {\n",
       "        text-align: right;\n",
       "    }\n",
       "</style>\n",
       "<table border=\"1\" class=\"dataframe\">\n",
       "  <thead>\n",
       "    <tr style=\"text-align: right;\">\n",
       "      <th></th>\n",
       "      <th>spam</th>\n",
       "      <th>text</th>\n",
       "    </tr>\n",
       "  </thead>\n",
       "  <tbody>\n",
       "    <tr>\n",
       "      <th>0</th>\n",
       "      <td>1</td>\n",
       "      <td>[-0.52931845, 0.24087495, -1.395558, 0.1779850...</td>\n",
       "    </tr>\n",
       "    <tr>\n",
       "      <th>1</th>\n",
       "      <td>1</td>\n",
       "      <td>[0.061905067, 0.3644289, -0.56080157, 0.573979...</td>\n",
       "    </tr>\n",
       "    <tr>\n",
       "      <th>2</th>\n",
       "      <td>1</td>\n",
       "      <td>[0.14448336, -0.45342216, -1.103903, -0.296925...</td>\n",
       "    </tr>\n",
       "    <tr>\n",
       "      <th>3</th>\n",
       "      <td>1</td>\n",
       "      <td>[0.893934, -0.86258966, 1.6417671, -0.07473087...</td>\n",
       "    </tr>\n",
       "    <tr>\n",
       "      <th>4</th>\n",
       "      <td>1</td>\n",
       "      <td>[-1.8044542, 0.677355, -2.069732, -0.49281555,...</td>\n",
       "    </tr>\n",
       "    <tr>\n",
       "      <th>...</th>\n",
       "      <td>...</td>\n",
       "      <td>...</td>\n",
       "    </tr>\n",
       "    <tr>\n",
       "      <th>20343</th>\n",
       "      <td>0</td>\n",
       "      <td>[0.61303, 7.0863, 3.8421, 4.9541, 2.3422, 2.34...</td>\n",
       "    </tr>\n",
       "    <tr>\n",
       "      <th>20344</th>\n",
       "      <td>0</td>\n",
       "      <td>[0.61303, 7.0863, 3.8421, 4.9541, 2.3422, 2.34...</td>\n",
       "    </tr>\n",
       "    <tr>\n",
       "      <th>20345</th>\n",
       "      <td>0</td>\n",
       "      <td>[0.61303, 7.0863, 3.8421, 4.9541, 2.3422, 2.34...</td>\n",
       "    </tr>\n",
       "    <tr>\n",
       "      <th>20346</th>\n",
       "      <td>0</td>\n",
       "      <td>[-1.0865, 2.8055, -1.09675, -1.70265, -2.9496,...</td>\n",
       "    </tr>\n",
       "    <tr>\n",
       "      <th>20347</th>\n",
       "      <td>0</td>\n",
       "      <td>[-2.0369, 7.659045, 0.034700036, 2.195095, 0.3...</td>\n",
       "    </tr>\n",
       "  </tbody>\n",
       "</table>\n",
       "<p>20348 rows × 2 columns</p>\n",
       "</div>"
      ],
      "text/plain": [
       "      spam                                               text\n",
       "0        1  [-0.52931845, 0.24087495, -1.395558, 0.1779850...\n",
       "1        1  [0.061905067, 0.3644289, -0.56080157, 0.573979...\n",
       "2        1  [0.14448336, -0.45342216, -1.103903, -0.296925...\n",
       "3        1  [0.893934, -0.86258966, 1.6417671, -0.07473087...\n",
       "4        1  [-1.8044542, 0.677355, -2.069732, -0.49281555,...\n",
       "...    ...                                                ...\n",
       "20343    0  [0.61303, 7.0863, 3.8421, 4.9541, 2.3422, 2.34...\n",
       "20344    0  [0.61303, 7.0863, 3.8421, 4.9541, 2.3422, 2.34...\n",
       "20345    0  [0.61303, 7.0863, 3.8421, 4.9541, 2.3422, 2.34...\n",
       "20346    0  [-1.0865, 2.8055, -1.09675, -1.70265, -2.9496,...\n",
       "20347    0  [-2.0369, 7.659045, 0.034700036, 2.195095, 0.3...\n",
       "\n",
       "[20348 rows x 2 columns]"
      ]
     },
     "execution_count": 16,
     "metadata": {},
     "output_type": "execute_result"
    }
   ],
   "source": [
    "data"
   ]
  },
  {
   "cell_type": "code",
   "execution_count": 17,
   "id": "42f76c36-a5f3-4ac2-a898-8bb78ef0488b",
   "metadata": {},
   "outputs": [
    {
     "data": {
      "text/plain": [
       "12059    [0.49853426, 0.7796143, -1.1526443, -1.4513485...\n",
       "11292    [-2.534225, 4.81135, 1.31345, 0.15004998, 0.93...\n",
       "6619     [-0.054993562, 0.9616838, -0.61024797, 0.24056...\n",
       "12947    [-0.5919954, 0.14481425, -2.6046429, -2.6459, ...\n",
       "17200    [1.837759, 1.67471, -0.8610748, -0.53129, 1.02...\n",
       "                               ...                        \n",
       "11284    [-1.6434386, 1.2791288, 0.26474714, -0.5530429...\n",
       "11964    [2.274916, 1.8385999, -4.09012, -0.748812, 0.0...\n",
       "5390     [-0.2858694, 0.3991786, -0.7073146, 0.33981454...\n",
       "860      [1.2424657, -0.73428714, 1.5394286, -0.5861571...\n",
       "15795    [0.57522994, -3.56051, -0.5687866, 3.69888, 3....\n",
       "Name: text, Length: 16278, dtype: object"
      ]
     },
     "execution_count": 17,
     "metadata": {},
     "output_type": "execute_result"
    }
   ],
   "source": [
    "X = data[\"text\"]\n",
    "y = data[\"spam\"] \n",
    "\n",
    "# Split the data into training and test sets\n",
    "X_train, X_test, y_train, y_test = train_test_split(X, y, test_size=0.2, random_state=42)\n",
    "X_train"
   ]
  },
  {
   "cell_type": "code",
   "execution_count": 18,
   "id": "09033f88-418e-486a-a548-a73204282e6b",
   "metadata": {},
   "outputs": [],
   "source": [
    "# Define the maximum sequence length and padding value\n",
    "max_seq_length = 100  # Example: set the maximum sequence length to 100\n",
    "padding_value = 0  # Example: set the padding value to 0\n",
    "# Pad sequences to ensure uniform length\n",
    "X_train_padded = pad_sequences(X_train, maxlen=max_seq_length, padding='post', value=padding_value)\n",
    "X_test_padded = pad_sequences(X_test, maxlen=max_seq_length, padding='post', value=padding_value)\n"
   ]
  },
  {
   "cell_type": "markdown",
   "id": "67156567-f9ad-42bf-958d-e1a0961abe2c",
   "metadata": {},
   "source": [
    "TensorFlow model \n",
    "Input Layer: Defines the input shape of the model.\n",
    "LSTM Layers: Capture sequential patterns in the input data.\n",
    "Dropout Layers: Regularize the model to prevent overfitting.\n",
    "Dense Layers: Introduce non-linearity and produce the final output."
   ]
  },
  {
   "cell_type": "code",
   "execution_count": 19,
   "id": "37d60cea-993d-4ba5-bcc7-b34b75832968",
   "metadata": {},
   "outputs": [],
   "source": [
    "# Assuming 'X_train_padded' and 'X_test_padded' are your padded sequences of shape (batch_size, max_seq_length)\n",
    "\n",
    "# Define the model with the correct input shape\n",
    "model = tf.keras.Sequential([\n",
    "    layers.Input(shape=(max_seq_length,)),  # Input shape is the length of the sequences\n",
    "    layers.Reshape((max_seq_length, 1)),  # Reshape input to add a third dimension\n",
    "    layers.LSTM(64, return_sequences=True),  # LSTM layer with 64 units and return sequences set to True\n",
    "    layers.Dropout(0.5),\n",
    "    layers.LSTM(64),  # Another LSTM layer with 64 units\n",
    "    layers.Dropout(0.5),\n",
    "    layers.Dense(64, activation='relu'),\n",
    "    layers.Dropout(0.5),\n",
    "    layers.Dense(1, activation='sigmoid')\n",
    "])\n"
   ]
  },
  {
   "cell_type": "code",
   "execution_count": 20,
   "id": "562ac516-c53e-480e-895e-f325df7a4405",
   "metadata": {},
   "outputs": [],
   "source": [
    "# Compile the model\n",
    "model.compile(loss='binary_crossentropy', optimizer='adam', metrics=['accuracy'])"
   ]
  },
  {
   "cell_type": "code",
   "execution_count": 21,
   "id": "e296c579-4f73-4498-aa9e-b42b7ff41661",
   "metadata": {},
   "outputs": [
    {
     "data": {
      "text/html": [
       "<pre style=\"white-space:pre;overflow-x:auto;line-height:normal;font-family:Menlo,'DejaVu Sans Mono',consolas,'Courier New',monospace\"><span style=\"font-weight: bold\">Model: \"sequential\"</span>\n",
       "</pre>\n"
      ],
      "text/plain": [
       "\u001b[1mModel: \"sequential\"\u001b[0m\n"
      ]
     },
     "metadata": {},
     "output_type": "display_data"
    },
    {
     "data": {
      "text/html": [
       "<pre style=\"white-space:pre;overflow-x:auto;line-height:normal;font-family:Menlo,'DejaVu Sans Mono',consolas,'Courier New',monospace\">┏━━━━━━━━━━━━━━━━━━━━━━━━━━━━━━━━━┳━━━━━━━━━━━━━━━━━━━━━━━━┳━━━━━━━━━━━━━━━┓\n",
       "┃<span style=\"font-weight: bold\"> Layer (type)                    </span>┃<span style=\"font-weight: bold\"> Output Shape           </span>┃<span style=\"font-weight: bold\">       Param # </span>┃\n",
       "┡━━━━━━━━━━━━━━━━━━━━━━━━━━━━━━━━━╇━━━━━━━━━━━━━━━━━━━━━━━━╇━━━━━━━━━━━━━━━┩\n",
       "│ reshape (<span style=\"color: #0087ff; text-decoration-color: #0087ff\">Reshape</span>)               │ (<span style=\"color: #00d7ff; text-decoration-color: #00d7ff\">None</span>, <span style=\"color: #00af00; text-decoration-color: #00af00\">100</span>, <span style=\"color: #00af00; text-decoration-color: #00af00\">1</span>)         │             <span style=\"color: #00af00; text-decoration-color: #00af00\">0</span> │\n",
       "├─────────────────────────────────┼────────────────────────┼───────────────┤\n",
       "│ lstm (<span style=\"color: #0087ff; text-decoration-color: #0087ff\">LSTM</span>)                     │ (<span style=\"color: #00d7ff; text-decoration-color: #00d7ff\">None</span>, <span style=\"color: #00af00; text-decoration-color: #00af00\">100</span>, <span style=\"color: #00af00; text-decoration-color: #00af00\">64</span>)        │        <span style=\"color: #00af00; text-decoration-color: #00af00\">16,896</span> │\n",
       "├─────────────────────────────────┼────────────────────────┼───────────────┤\n",
       "│ dropout (<span style=\"color: #0087ff; text-decoration-color: #0087ff\">Dropout</span>)               │ (<span style=\"color: #00d7ff; text-decoration-color: #00d7ff\">None</span>, <span style=\"color: #00af00; text-decoration-color: #00af00\">100</span>, <span style=\"color: #00af00; text-decoration-color: #00af00\">64</span>)        │             <span style=\"color: #00af00; text-decoration-color: #00af00\">0</span> │\n",
       "├─────────────────────────────────┼────────────────────────┼───────────────┤\n",
       "│ lstm_1 (<span style=\"color: #0087ff; text-decoration-color: #0087ff\">LSTM</span>)                   │ (<span style=\"color: #00d7ff; text-decoration-color: #00d7ff\">None</span>, <span style=\"color: #00af00; text-decoration-color: #00af00\">64</span>)             │        <span style=\"color: #00af00; text-decoration-color: #00af00\">33,024</span> │\n",
       "├─────────────────────────────────┼────────────────────────┼───────────────┤\n",
       "│ dropout_1 (<span style=\"color: #0087ff; text-decoration-color: #0087ff\">Dropout</span>)             │ (<span style=\"color: #00d7ff; text-decoration-color: #00d7ff\">None</span>, <span style=\"color: #00af00; text-decoration-color: #00af00\">64</span>)             │             <span style=\"color: #00af00; text-decoration-color: #00af00\">0</span> │\n",
       "├─────────────────────────────────┼────────────────────────┼───────────────┤\n",
       "│ dense (<span style=\"color: #0087ff; text-decoration-color: #0087ff\">Dense</span>)                   │ (<span style=\"color: #00d7ff; text-decoration-color: #00d7ff\">None</span>, <span style=\"color: #00af00; text-decoration-color: #00af00\">64</span>)             │         <span style=\"color: #00af00; text-decoration-color: #00af00\">4,160</span> │\n",
       "├─────────────────────────────────┼────────────────────────┼───────────────┤\n",
       "│ dropout_2 (<span style=\"color: #0087ff; text-decoration-color: #0087ff\">Dropout</span>)             │ (<span style=\"color: #00d7ff; text-decoration-color: #00d7ff\">None</span>, <span style=\"color: #00af00; text-decoration-color: #00af00\">64</span>)             │             <span style=\"color: #00af00; text-decoration-color: #00af00\">0</span> │\n",
       "├─────────────────────────────────┼────────────────────────┼───────────────┤\n",
       "│ dense_1 (<span style=\"color: #0087ff; text-decoration-color: #0087ff\">Dense</span>)                 │ (<span style=\"color: #00d7ff; text-decoration-color: #00d7ff\">None</span>, <span style=\"color: #00af00; text-decoration-color: #00af00\">1</span>)              │            <span style=\"color: #00af00; text-decoration-color: #00af00\">65</span> │\n",
       "└─────────────────────────────────┴────────────────────────┴───────────────┘\n",
       "</pre>\n"
      ],
      "text/plain": [
       "┏━━━━━━━━━━━━━━━━━━━━━━━━━━━━━━━━━┳━━━━━━━━━━━━━━━━━━━━━━━━┳━━━━━━━━━━━━━━━┓\n",
       "┃\u001b[1m \u001b[0m\u001b[1mLayer (type)                   \u001b[0m\u001b[1m \u001b[0m┃\u001b[1m \u001b[0m\u001b[1mOutput Shape          \u001b[0m\u001b[1m \u001b[0m┃\u001b[1m \u001b[0m\u001b[1m      Param #\u001b[0m\u001b[1m \u001b[0m┃\n",
       "┡━━━━━━━━━━━━━━━━━━━━━━━━━━━━━━━━━╇━━━━━━━━━━━━━━━━━━━━━━━━╇━━━━━━━━━━━━━━━┩\n",
       "│ reshape (\u001b[38;5;33mReshape\u001b[0m)               │ (\u001b[38;5;45mNone\u001b[0m, \u001b[38;5;34m100\u001b[0m, \u001b[38;5;34m1\u001b[0m)         │             \u001b[38;5;34m0\u001b[0m │\n",
       "├─────────────────────────────────┼────────────────────────┼───────────────┤\n",
       "│ lstm (\u001b[38;5;33mLSTM\u001b[0m)                     │ (\u001b[38;5;45mNone\u001b[0m, \u001b[38;5;34m100\u001b[0m, \u001b[38;5;34m64\u001b[0m)        │        \u001b[38;5;34m16,896\u001b[0m │\n",
       "├─────────────────────────────────┼────────────────────────┼───────────────┤\n",
       "│ dropout (\u001b[38;5;33mDropout\u001b[0m)               │ (\u001b[38;5;45mNone\u001b[0m, \u001b[38;5;34m100\u001b[0m, \u001b[38;5;34m64\u001b[0m)        │             \u001b[38;5;34m0\u001b[0m │\n",
       "├─────────────────────────────────┼────────────────────────┼───────────────┤\n",
       "│ lstm_1 (\u001b[38;5;33mLSTM\u001b[0m)                   │ (\u001b[38;5;45mNone\u001b[0m, \u001b[38;5;34m64\u001b[0m)             │        \u001b[38;5;34m33,024\u001b[0m │\n",
       "├─────────────────────────────────┼────────────────────────┼───────────────┤\n",
       "│ dropout_1 (\u001b[38;5;33mDropout\u001b[0m)             │ (\u001b[38;5;45mNone\u001b[0m, \u001b[38;5;34m64\u001b[0m)             │             \u001b[38;5;34m0\u001b[0m │\n",
       "├─────────────────────────────────┼────────────────────────┼───────────────┤\n",
       "│ dense (\u001b[38;5;33mDense\u001b[0m)                   │ (\u001b[38;5;45mNone\u001b[0m, \u001b[38;5;34m64\u001b[0m)             │         \u001b[38;5;34m4,160\u001b[0m │\n",
       "├─────────────────────────────────┼────────────────────────┼───────────────┤\n",
       "│ dropout_2 (\u001b[38;5;33mDropout\u001b[0m)             │ (\u001b[38;5;45mNone\u001b[0m, \u001b[38;5;34m64\u001b[0m)             │             \u001b[38;5;34m0\u001b[0m │\n",
       "├─────────────────────────────────┼────────────────────────┼───────────────┤\n",
       "│ dense_1 (\u001b[38;5;33mDense\u001b[0m)                 │ (\u001b[38;5;45mNone\u001b[0m, \u001b[38;5;34m1\u001b[0m)              │            \u001b[38;5;34m65\u001b[0m │\n",
       "└─────────────────────────────────┴────────────────────────┴───────────────┘\n"
      ]
     },
     "metadata": {},
     "output_type": "display_data"
    },
    {
     "data": {
      "text/html": [
       "<pre style=\"white-space:pre;overflow-x:auto;line-height:normal;font-family:Menlo,'DejaVu Sans Mono',consolas,'Courier New',monospace\"><span style=\"font-weight: bold\"> Total params: </span><span style=\"color: #00af00; text-decoration-color: #00af00\">54,145</span> (211.50 KB)\n",
       "</pre>\n"
      ],
      "text/plain": [
       "\u001b[1m Total params: \u001b[0m\u001b[38;5;34m54,145\u001b[0m (211.50 KB)\n"
      ]
     },
     "metadata": {},
     "output_type": "display_data"
    },
    {
     "data": {
      "text/html": [
       "<pre style=\"white-space:pre;overflow-x:auto;line-height:normal;font-family:Menlo,'DejaVu Sans Mono',consolas,'Courier New',monospace\"><span style=\"font-weight: bold\"> Trainable params: </span><span style=\"color: #00af00; text-decoration-color: #00af00\">54,145</span> (211.50 KB)\n",
       "</pre>\n"
      ],
      "text/plain": [
       "\u001b[1m Trainable params: \u001b[0m\u001b[38;5;34m54,145\u001b[0m (211.50 KB)\n"
      ]
     },
     "metadata": {},
     "output_type": "display_data"
    },
    {
     "data": {
      "text/html": [
       "<pre style=\"white-space:pre;overflow-x:auto;line-height:normal;font-family:Menlo,'DejaVu Sans Mono',consolas,'Courier New',monospace\"><span style=\"font-weight: bold\"> Non-trainable params: </span><span style=\"color: #00af00; text-decoration-color: #00af00\">0</span> (0.00 B)\n",
       "</pre>\n"
      ],
      "text/plain": [
       "\u001b[1m Non-trainable params: \u001b[0m\u001b[38;5;34m0\u001b[0m (0.00 B)\n"
      ]
     },
     "metadata": {},
     "output_type": "display_data"
    }
   ],
   "source": [
    "model.summary()"
   ]
  },
  {
   "cell_type": "code",
   "execution_count": 22,
   "id": "a91b3c7f-921e-4a82-a3c9-74d92cc59259",
   "metadata": {},
   "outputs": [],
   "source": [
    "# Convert data types to compatible types\n",
    "X_train_padded = X_train_padded.astype(np.float32)  # Convert X_train_padded to float32\n",
    "y_train = y_train.astype(np.int32)  # Convert y_train to int32\n",
    "X_test_padded = X_test_padded.astype(np.float32)  # Convert X_test_padded to float32\n",
    "y_test = y_test.astype(np.int32)  # Convert y_test to int32"
   ]
  },
  {
   "cell_type": "code",
   "execution_count": 23,
   "id": "9fee8ec4-7152-44ce-a524-0c11307be2d8",
   "metadata": {},
   "outputs": [
    {
     "name": "stdout",
     "output_type": "stream",
     "text": [
      "Epoch 1/10\n",
      "\u001b[1m407/407\u001b[0m \u001b[32m━━━━━━━━━━━━━━━━━━━━\u001b[0m\u001b[37m\u001b[0m \u001b[1m13s\u001b[0m 29ms/step - accuracy: 0.6987 - loss: 0.6088 - val_accuracy: 0.7064 - val_loss: 0.5733\n",
      "Epoch 2/10\n",
      "\u001b[1m407/407\u001b[0m \u001b[32m━━━━━━━━━━━━━━━━━━━━\u001b[0m\u001b[37m\u001b[0m \u001b[1m12s\u001b[0m 29ms/step - accuracy: 0.7049 - loss: 0.5806 - val_accuracy: 0.7217 - val_loss: 0.5663\n",
      "Epoch 3/10\n",
      "\u001b[1m407/407\u001b[0m \u001b[32m━━━━━━━━━━━━━━━━━━━━\u001b[0m\u001b[37m\u001b[0m \u001b[1m12s\u001b[0m 29ms/step - accuracy: 0.7204 - loss: 0.5618 - val_accuracy: 0.7429 - val_loss: 0.5379\n",
      "Epoch 4/10\n",
      "\u001b[1m407/407\u001b[0m \u001b[32m━━━━━━━━━━━━━━━━━━━━\u001b[0m\u001b[37m\u001b[0m \u001b[1m12s\u001b[0m 29ms/step - accuracy: 0.7400 - loss: 0.5357 - val_accuracy: 0.7260 - val_loss: 0.5289\n",
      "Epoch 5/10\n",
      "\u001b[1m407/407\u001b[0m \u001b[32m━━━━━━━━━━━━━━━━━━━━\u001b[0m\u001b[37m\u001b[0m \u001b[1m12s\u001b[0m 29ms/step - accuracy: 0.7606 - loss: 0.4965 - val_accuracy: 0.7792 - val_loss: 0.4796\n",
      "Epoch 6/10\n",
      "\u001b[1m407/407\u001b[0m \u001b[32m━━━━━━━━━━━━━━━━━━━━\u001b[0m\u001b[37m\u001b[0m \u001b[1m12s\u001b[0m 29ms/step - accuracy: 0.7645 - loss: 0.4922 - val_accuracy: 0.7660 - val_loss: 0.4887\n",
      "Epoch 7/10\n",
      "\u001b[1m407/407\u001b[0m \u001b[32m━━━━━━━━━━━━━━━━━━━━\u001b[0m\u001b[37m\u001b[0m \u001b[1m12s\u001b[0m 29ms/step - accuracy: 0.7701 - loss: 0.4833 - val_accuracy: 0.7773 - val_loss: 0.4724\n",
      "Epoch 8/10\n",
      "\u001b[1m407/407\u001b[0m \u001b[32m━━━━━━━━━━━━━━━━━━━━\u001b[0m\u001b[37m\u001b[0m \u001b[1m12s\u001b[0m 29ms/step - accuracy: 0.7780 - loss: 0.4679 - val_accuracy: 0.7899 - val_loss: 0.4558\n",
      "Epoch 9/10\n",
      "\u001b[1m407/407\u001b[0m \u001b[32m━━━━━━━━━━━━━━━━━━━━\u001b[0m\u001b[37m\u001b[0m \u001b[1m12s\u001b[0m 29ms/step - accuracy: 0.7896 - loss: 0.4538 - val_accuracy: 0.7841 - val_loss: 0.4614\n",
      "Epoch 10/10\n",
      "\u001b[1m407/407\u001b[0m \u001b[32m━━━━━━━━━━━━━━━━━━━━\u001b[0m\u001b[37m\u001b[0m \u001b[1m12s\u001b[0m 29ms/step - accuracy: 0.7908 - loss: 0.4510 - val_accuracy: 0.7893 - val_loss: 0.4640\n",
      "\u001b[1m128/128\u001b[0m \u001b[32m━━━━━━━━━━━━━━━━━━━━\u001b[0m\u001b[37m\u001b[0m \u001b[1m1s\u001b[0m 7ms/step - accuracy: 0.7955 - loss: 0.4588\n",
      "Test Loss: 0.45471739768981934, Test Accuracy: 0.7916461825370789\n"
     ]
    }
   ],
   "source": [
    "\n",
    "# Train the model using the padded sequences\n",
    "history = model.fit(X_train_padded, y_train, epochs=10, batch_size=32, validation_split=0.2)\n",
    "\n",
    "# Evaluate the model using the padded test sequences\n",
    "loss, accuracy = model.evaluate(X_test_padded, y_test)\n",
    "print(f\"Test Loss: {loss}, Test Accuracy: {accuracy}\")"
   ]
  },
  {
   "cell_type": "code",
   "execution_count": 24,
   "id": "41ad32ba-9222-440a-be38-ce46d61896a7",
   "metadata": {},
   "outputs": [],
   "source": [
    "epochs = range(1, len(history.history['loss']) + 1)\n",
    "train_loss = history.history['loss']\n",
    "val_loss = history.history['val_loss']\n",
    "train_acc = history.history['accuracy']\n",
    "val_acc = history.history['val_accuracy']\n"
   ]
  },
  {
   "cell_type": "markdown",
   "id": "9ee0d6ce-fd25-44a5-afe1-8bf5b7932181",
   "metadata": {},
   "source": [
    "### The model achieved a moderate level of performance with a test accuracy of approximately 79.16%. This indicates that the model correctly classified about 79.16% of the test instances as either spam or non-spam. The test loss of approximately 0.4547 indicates the average prediction error of the model on the test dataset, with lower values indicating better performance in terms of minimizing errors. The corresponding test loss suggests that there is room for improvement in minimizing prediction errors."
   ]
  },
  {
   "cell_type": "code",
   "execution_count": 25,
   "id": "ad17a3bd-68a7-4ce6-8619-a9a37e2c7c72",
   "metadata": {},
   "outputs": [
    {
     "data": {
      "image/png": "[encoded data removed]",
      "text/plain": [
       "<Figure size 1200x600 with 2 Axes>"
      ]
     },
     "metadata": {},
     "output_type": "display_data"
    }
   ],
   "source": [
    "# Create subplots with 1 row and 2 columns\n",
    "fig, (ax1, ax2) = plt.subplots(1, 2, figsize=(12, 6))\n",
    "\n",
    "# Plot training and validation loss\n",
    "ax1.plot(epochs, train_loss, 'bo', label='Training loss')\n",
    "ax1.plot(epochs, val_loss, 'r', label='Validation loss')\n",
    "ax1.set_title('Training and Validation Loss')\n",
    "ax1.set_xlabel('Epochs')\n",
    "ax1.set_ylabel('Loss')\n",
    "ax1.legend()\n",
    "\n",
    "# Plot training and validation accuracy\n",
    "ax2.plot(epochs, train_acc, 'bo', label='Training accuracy')\n",
    "ax2.plot(epochs, val_acc, 'r', label='Validation accuracy')\n",
    "ax2.set_title('Training and Validation Accuracy')\n",
    "ax2.set_xlabel('Epochs')\n",
    "ax2.set_ylabel('Accuracy')\n",
    "ax2.legend()\n",
    "\n",
    "# Adjust layout to prevent overlap\n",
    "plt.tight_layout()\n",
    "\n",
    "# Show the plot\n",
    "plt.show()"
   ]
  },
  {
   "cell_type": "markdown",
   "id": "69139f98-609a-4b8e-b210-7f8e01f0090d",
   "metadata": {},
   "source": [
    "Throughout the training phase, the model exhibited a clear pattern: as the epochs progressed, the training loss consistently diminished, and the accuracy steadily increased. These trends underscore the model's iterative learning journey, showcasing its advancing expertise in discerning spam messages. However, the validation metrics depicted a more fluctuating pattern, suggesting occasional difficulties in generalization. While the validation results remained consistent overall, there were sporadic fluctuations, indicating occasional challenges in adapting to diverse scenarios. This underscores the ongoing need to enhance the model's capacity for generalization, ensuring reliable spam detection across varied contexts."
   ]
  }
 ],
 "metadata": {
  "kernelspec": {
   "display_name": "Python 3 (ipykernel)",
   "language": "python",
   "name": "python3"
  },
  "language_info": {
   "codemirror_mode": {
    "name": "ipython",
    "version": 3
   },
   "file_extension": ".py",
   "mimetype": "text/x-python",
   "name": "python",
   "nbconvert_exporter": "python",
   "pygments_lexer": "ipython3",
   "version": "3.12.0"
  }
 },
 "nbformat": 4,
 "nbformat_minor": 5
}
